{
 "cells": [
  {
   "cell_type": "markdown",
   "id": "e4d58fcf",
   "metadata": {},
   "source": [
    "# Terms creation in 2P-Kt"
   ]
  },
  {
   "cell_type": "markdown",
   "id": "d66dae58",
   "metadata": {},
   "source": [
    "## Goals\n",
    "\n",
    "- Learn how to create/inspect terms in `2p-kt`\n",
    "- Understand the representation of lists in logic\n",
    "\n",
    "## Terms hierarchy in `2p-kt`\n",
    "\n",
    "Simplified view of the type hierarchy of `Term` in `2p-kt`:\n",
    "![Type hierarchy of `Term`](http://www.plantuml.com/plantuml/svg/PP11IiOm48NtSufSuB-1Yugu4CI5YlkXdRR1P5ec4qJmy1fYoBHTlk-HyBuPag9eZW7If-ST1QDBAqxRb-V5pHWI0NXMaXb7SkyaqSI7ZPCYgq4VA2QzgUJHrYyvalZHa2TMMiW-UYKC9jxh5kq4oRgQ_1Xt_NxsIGqpiSq4ADlTtS_jpurlRTa1DfypBaxGkewRowMfa-6_xxY8NMax0DH9frzEiAf1gJgh9u5ITTZlSkJr60Fnb6Fu1G00)\n",
    "\n",
    "\n",
    "## Preliminaries\n",
    "\n",
    "Let's first import `2p-kt` (`%use` directive only work in Jupyter):"
   ]
  },
  {
   "cell_type": "code",
   "execution_count": 1,
   "id": "a3d79f22",
   "metadata": {},
   "outputs": [],
   "source": [
    "%use 2p-kt@/ktlibs\n",
    "%use kt-math@/ktlibs"
   ]
  },
  {
   "cell_type": "markdown",
   "id": "d85fb8d1",
   "metadata": {},
   "source": [
    "Let's create a parser for converting strings into terms:"
   ]
  },
  {
   "cell_type": "code",
   "execution_count": 2,
   "id": "b0107323",
   "metadata": {},
   "outputs": [],
   "source": [
    "val parser = TermParser.withNoOperator()"
   ]
  },
  {
   "cell_type": "markdown",
   "id": "b02b7957",
   "metadata": {},
   "source": [
    "Let's create a formatter for converting terms into human-readable strings:"
   ]
  },
  {
   "cell_type": "code",
   "execution_count": 3,
   "id": "50322009",
   "metadata": {},
   "outputs": [],
   "source": [
    "val formatter = TermFormatter.prettyVariables()"
   ]
  },
  {
   "cell_type": "markdown",
   "id": "7b4db07a",
   "metadata": {},
   "source": [
    "## Atoms\n",
    "\n",
    "Atoms are alphanumerics constants.\n",
    "When\n",
    "- containing spaces, \n",
    "- or beginning with uppercase letters or undescores\n",
    "\n",
    "atom are represented as wrapped within single/double apices:"
   ]
  },
  {
   "cell_type": "code",
   "execution_count": 9,
   "id": "91b84b71",
   "metadata": {},
   "outputs": [
    {
     "data": {
      "text/plain": [
       "[anAtom, 'an atom with spaces', \"ACapitalAtom\"]"
      ]
     },
     "execution_count": 9,
     "metadata": {},
     "output_type": "execute_result"
    }
   ],
   "source": [
    "val representations = listOf(\n",
    "    \"anAtom\", \n",
    "    \"'an atom with spaces'\",\n",
    "    \"\\\"ACapitalAtom\\\"\"\n",
    ")\n",
    "representations"
   ]
  },
  {
   "cell_type": "markdown",
   "id": "d4cc8b7a",
   "metadata": {},
   "source": [
    "Atoms can be programmatically constructed by means of the `Atom.of` factory method, accepting a `String` *without apices* as input.\n",
    "\n",
    "Otherwise, atoms can be parsed from a `String` by means of a `TermParser`.\n",
    "\n",
    "Below, try to construct the atom **programmatically**, out of a representation, in order for it to match the atom parsed from the same representation."
   ]
  },
  {
   "cell_type": "code",
   "execution_count": 10,
   "id": "3cd9fc4b",
   "metadata": {},
   "outputs": [
    {
     "name": "stderr",
     "output_type": "stream",
     "text": [
      "An operation is not implemented: create an Atom term whose representation is equal to anAtom\n",
      "kotlin.NotImplementedError: An operation is not implemented: create an Atom term whose representation is equal to anAtom\n",
      "\tat Line_147_jupyter.<init>(Line_147.jupyter.kts:2)\n",
      "\tat java.base/jdk.internal.reflect.NativeConstructorAccessorImpl.newInstance0(Native Method)\n",
      "\tat java.base/jdk.internal.reflect.NativeConstructorAccessorImpl.newInstance(NativeConstructorAccessorImpl.java:77)\n",
      "\tat java.base/jdk.internal.reflect.DelegatingConstructorAccessorImpl.newInstance(DelegatingConstructorAccessorImpl.java:45)\n",
      "\tat java.base/java.lang.reflect.Constructor.newInstanceWithCaller(Constructor.java:499)\n",
      "\tat java.base/java.lang.reflect.Constructor.newInstance(Constructor.java:480)\n",
      "\tat kotlin.script.experimental.jvm.BasicJvmScriptEvaluator.evalWithConfigAndOtherScriptsResults(BasicJvmScriptEvaluator.kt:105)\n",
      "\tat kotlin.script.experimental.jvm.BasicJvmScriptEvaluator.invoke$suspendImpl(BasicJvmScriptEvaluator.kt:47)\n",
      "\tat kotlin.script.experimental.jvm.BasicJvmScriptEvaluator.invoke(BasicJvmScriptEvaluator.kt)\n",
      "\tat kotlin.script.experimental.jvm.BasicJvmReplEvaluator.eval(BasicJvmReplEvaluator.kt:49)\n",
      "\tat org.jetbrains.kotlinx.jupyter.repl.impl.InternalEvaluatorImpl$eval$resultWithDiagnostics$1.invokeSuspend(InternalEvaluatorImpl.kt:103)\n",
      "\tat kotlin.coroutines.jvm.internal.BaseContinuationImpl.resumeWith(ContinuationImpl.kt:33)\n",
      "\tat kotlinx.coroutines.DispatchedTask.run(DispatchedTask.kt:106)\n",
      "\tat kotlinx.coroutines.EventLoopImplBase.processNextEvent(EventLoop.common.kt:284)\n",
      "\tat kotlinx.coroutines.BlockingCoroutine.joinBlocking(Builders.kt:85)\n",
      "\tat kotlinx.coroutines.BuildersKt__BuildersKt.runBlocking(Builders.kt:59)\n",
      "\tat kotlinx.coroutines.BuildersKt.runBlocking(Unknown Source)\n",
      "\tat kotlinx.coroutines.BuildersKt__BuildersKt.runBlocking$default(Builders.kt:38)\n",
      "\tat kotlinx.coroutines.BuildersKt.runBlocking$default(Unknown Source)\n",
      "\tat org.jetbrains.kotlinx.jupyter.repl.impl.InternalEvaluatorImpl.eval(InternalEvaluatorImpl.kt:103)\n",
      "\tat org.jetbrains.kotlinx.jupyter.repl.impl.CellExecutorImpl$execute$1$result$1.invoke(CellExecutorImpl.kt:75)\n",
      "\tat org.jetbrains.kotlinx.jupyter.repl.impl.CellExecutorImpl$execute$1$result$1.invoke(CellExecutorImpl.kt:73)\n",
      "\tat org.jetbrains.kotlinx.jupyter.ReplForJupyterImpl.withHost(repl.kt:666)\n",
      "\tat org.jetbrains.kotlinx.jupyter.repl.impl.CellExecutorImpl.execute(CellExecutorImpl.kt:73)\n",
      "\tat org.jetbrains.kotlinx.jupyter.repl.CellExecutor$DefaultImpls.execute$default(CellExecutor.kt:15)\n",
      "\tat org.jetbrains.kotlinx.jupyter.ReplForJupyterImpl$evalEx$1.invoke(repl.kt:479)\n",
      "\tat org.jetbrains.kotlinx.jupyter.ReplForJupyterImpl$evalEx$1.invoke(repl.kt:470)\n",
      "\tat org.jetbrains.kotlinx.jupyter.ReplForJupyterImpl.withEvalContext(repl.kt:433)\n",
      "\tat org.jetbrains.kotlinx.jupyter.ReplForJupyterImpl.evalEx(repl.kt:470)\n",
      "\tat org.jetbrains.kotlinx.jupyter.messaging.ProtocolKt$shellMessagesHandler$2$res$1.invoke(protocol.kt:318)\n",
      "\tat org.jetbrains.kotlinx.jupyter.messaging.ProtocolKt$shellMessagesHandler$2$res$1.invoke(protocol.kt:312)\n",
      "\tat org.jetbrains.kotlinx.jupyter.JupyterExecutorImpl$runExecution$execThread$1.invoke(execution.kt:37)\n",
      "\tat org.jetbrains.kotlinx.jupyter.JupyterExecutorImpl$runExecution$execThread$1.invoke(execution.kt:32)\n",
      "\tat kotlin.concurrent.ThreadsKt$thread$thread$1.run(Thread.kt:30)\n"
     ]
    }
   ],
   "source": [
    "for (repr in representations) {\n",
    "    val term: Term = TODO(\"create an ${Atom::class.simpleName} term whose representation is equal to $repr\")\n",
    "    val expected = parser.parseTerm(repr)\n",
    "\n",
    "    assertEquals(expected, term)\n",
    "    assertTrue(term is Struct)\n",
    "    assertTrue(term is Constant)\n",
    "    assertTrue(term is Atom)\n",
    "    assertEquals(repr.replace(\"'\", \"\").replace(\"\\\"\", \"\"), term.value)\n",
    "    assertEquals(repr, formatter.format(term))\n",
    "}"
   ]
  },
  {
   "cell_type": "markdown",
   "id": "1921df9c",
   "metadata": {},
   "source": [
    "## Numbers\n",
    "### Integers"
   ]
  },
  {
   "cell_type": "code",
   "execution_count": 6,
   "id": "a2a50b5b",
   "metadata": {},
   "outputs": [],
   "source": [
    "val integers = listOf(1, 2, 0, -1)"
   ]
  },
  {
   "cell_type": "code",
   "execution_count": 7,
   "id": "a4b69a31",
   "metadata": {},
   "outputs": [
    {
     "name": "stderr",
     "output_type": "stream",
     "text": [
      "An operation is not implemented: create an Integer term whose value is equal to 1\n",
      "kotlin.NotImplementedError: An operation is not implemented: create an Integer term whose value is equal to 1\n",
      "\tat Line_7_jupyter.<init>(Line_7.jupyter.kts:2)\n",
      "\tat java.base/jdk.internal.reflect.NativeConstructorAccessorImpl.newInstance0(Native Method)\n",
      "\tat java.base/jdk.internal.reflect.NativeConstructorAccessorImpl.newInstance(NativeConstructorAccessorImpl.java:77)\n",
      "\tat java.base/jdk.internal.reflect.DelegatingConstructorAccessorImpl.newInstance(DelegatingConstructorAccessorImpl.java:45)\n",
      "\tat java.base/java.lang.reflect.Constructor.newInstanceWithCaller(Constructor.java:499)\n",
      "\tat java.base/java.lang.reflect.Constructor.newInstance(Constructor.java:480)\n",
      "\tat kotlin.script.experimental.jvm.BasicJvmScriptEvaluator.evalWithConfigAndOtherScriptsResults(BasicJvmScriptEvaluator.kt:105)\n",
      "\tat kotlin.script.experimental.jvm.BasicJvmScriptEvaluator.invoke$suspendImpl(BasicJvmScriptEvaluator.kt:47)\n",
      "\tat kotlin.script.experimental.jvm.BasicJvmScriptEvaluator.invoke(BasicJvmScriptEvaluator.kt)\n",
      "\tat kotlin.script.experimental.jvm.BasicJvmReplEvaluator.eval(BasicJvmReplEvaluator.kt:49)\n",
      "\tat org.jetbrains.kotlinx.jupyter.repl.impl.InternalEvaluatorImpl$eval$resultWithDiagnostics$1.invokeSuspend(InternalEvaluatorImpl.kt:103)\n",
      "\tat kotlin.coroutines.jvm.internal.BaseContinuationImpl.resumeWith(ContinuationImpl.kt:33)\n",
      "\tat kotlinx.coroutines.DispatchedTask.run(DispatchedTask.kt:106)\n",
      "\tat kotlinx.coroutines.EventLoopImplBase.processNextEvent(EventLoop.common.kt:284)\n",
      "\tat kotlinx.coroutines.BlockingCoroutine.joinBlocking(Builders.kt:85)\n",
      "\tat kotlinx.coroutines.BuildersKt__BuildersKt.runBlocking(Builders.kt:59)\n",
      "\tat kotlinx.coroutines.BuildersKt.runBlocking(Unknown Source)\n",
      "\tat kotlinx.coroutines.BuildersKt__BuildersKt.runBlocking$default(Builders.kt:38)\n",
      "\tat kotlinx.coroutines.BuildersKt.runBlocking$default(Unknown Source)\n",
      "\tat org.jetbrains.kotlinx.jupyter.repl.impl.InternalEvaluatorImpl.eval(InternalEvaluatorImpl.kt:103)\n",
      "\tat org.jetbrains.kotlinx.jupyter.repl.impl.CellExecutorImpl$execute$1$result$1.invoke(CellExecutorImpl.kt:75)\n",
      "\tat org.jetbrains.kotlinx.jupyter.repl.impl.CellExecutorImpl$execute$1$result$1.invoke(CellExecutorImpl.kt:73)\n",
      "\tat org.jetbrains.kotlinx.jupyter.ReplForJupyterImpl.withHost(repl.kt:666)\n",
      "\tat org.jetbrains.kotlinx.jupyter.repl.impl.CellExecutorImpl.execute(CellExecutorImpl.kt:73)\n",
      "\tat org.jetbrains.kotlinx.jupyter.repl.CellExecutor$DefaultImpls.execute$default(CellExecutor.kt:15)\n",
      "\tat org.jetbrains.kotlinx.jupyter.ReplForJupyterImpl$evalEx$1.invoke(repl.kt:479)\n",
      "\tat org.jetbrains.kotlinx.jupyter.ReplForJupyterImpl$evalEx$1.invoke(repl.kt:470)\n",
      "\tat org.jetbrains.kotlinx.jupyter.ReplForJupyterImpl.withEvalContext(repl.kt:433)\n",
      "\tat org.jetbrains.kotlinx.jupyter.ReplForJupyterImpl.evalEx(repl.kt:470)\n",
      "\tat org.jetbrains.kotlinx.jupyter.messaging.ProtocolKt$shellMessagesHandler$2$res$1.invoke(protocol.kt:318)\n",
      "\tat org.jetbrains.kotlinx.jupyter.messaging.ProtocolKt$shellMessagesHandler$2$res$1.invoke(protocol.kt:312)\n",
      "\tat org.jetbrains.kotlinx.jupyter.JupyterExecutorImpl$runExecution$execThread$1.invoke(execution.kt:37)\n",
      "\tat org.jetbrains.kotlinx.jupyter.JupyterExecutorImpl$runExecution$execThread$1.invoke(execution.kt:32)\n",
      "\tat kotlin.concurrent.ThreadsKt$thread$thread$1.run(Thread.kt:30)\n"
     ]
    }
   ],
   "source": [
    "for (int in integers) {\n",
    "    val term: Term = TODO(\"create an ${Integer::class.simpleName} term whose value is equal to $int\")\n",
    "    val representation = int.toString()\n",
    "    val expected = parser.parseTerm(representation)\n",
    "\n",
    "    assertEquals(expected, term)\n",
    "    assertTrue(term is Numeric)\n",
    "    assertTrue(term is Constant)\n",
    "    assertTrue(term is Integer)\n",
    "    assertEquals(BigInteger.of(int), term.value)\n",
    "    assertEquals(representation, formatter.format(term))\n",
    "}"
   ]
  },
  {
   "cell_type": "markdown",
   "id": "b8f90e92",
   "metadata": {},
   "source": [
    "### Reals"
   ]
  },
  {
   "cell_type": "code",
   "execution_count": 8,
   "id": "90ab188e",
   "metadata": {},
   "outputs": [],
   "source": [
    "val representations = listOf(\"1.2\", \"-3.4\", \"0.0\", kotlin.math.PI.toString())"
   ]
  },
  {
   "cell_type": "code",
   "execution_count": null,
   "id": "bfd0df28",
   "metadata": {},
   "outputs": [],
   "source": [
    "for (repr in representations) {\n",
    "    val term: Term = TODO(\"Create a ${Real::class.simpleName} term whose representation is equal to $repr\")\n",
    "    val expected = parser.parseTerm(repr)\n",
    "\n",
    "    assertEquals(expected, term)\n",
    "    assertTrue(term is Numeric)\n",
    "    assertTrue(term is Constant)\n",
    "    assertTrue(term is Real)\n",
    "    assertEquals(BigDecimal.of(repr), term.value)\n",
    "    assertEquals(repr, formatter.format(term))\n",
    "}\n",
    "    "
   ]
  },
  {
   "cell_type": "markdown",
   "id": "f34adbfe",
   "metadata": {},
   "source": [
    "## Variables"
   ]
  },
  {
   "cell_type": "code",
   "execution_count": null,
   "id": "c504981d",
   "metadata": {},
   "outputs": [],
   "source": [
    "val names = listOf(\"A\", \"B\", \"_\", \"_A\", \"_B\", \"SomeVariable\")"
   ]
  },
  {
   "cell_type": "code",
   "execution_count": null,
   "id": "d1469f73",
   "metadata": {},
   "outputs": [],
   "source": [
    "for (name in names) {\n",
    "    val term: Term = TODO(\"Create a ${Var::class.simpleName}iable term whose name is equal to $name\")\n",
    "    val expected = parser.parseTerm(name)\n",
    "\n",
    "    assertNotEquals(expected, term) // notice this!\n",
    "    assertTrue(expected.equals(term, useVarCompleteName = false))\n",
    "    assertTrue(term is Var)\n",
    "    assertEquals(name, term.name)\n",
    "    assertEquals(name, formatter.format(term))\n",
    "    assertTrue(term.completeName.startsWith(name + \"_\"))\n",
    "    assertEquals(name == \"_\", term.isAnonymous)\n",
    "}"
   ]
  },
  {
   "cell_type": "markdown",
   "id": "9dad65bb",
   "metadata": {},
   "source": [
    "## Structures"
   ]
  },
  {
   "cell_type": "code",
   "execution_count": null,
   "id": "1d2f845e",
   "metadata": {},
   "outputs": [],
   "source": [
    "val representation = \"person(giovanni, ciatto, 30)\""
   ]
  },
  {
   "cell_type": "code",
   "execution_count": null,
   "id": "a04c3cbd",
   "metadata": {},
   "outputs": [],
   "source": [
    "val term: Term = TODO(\"Create a ${Struct::class.simpleName}ured term whose representation is equal to $representation\")\n",
    "val expected = parser.parseTerm(representation)\n",
    "\n",
    "assertEquals(expected, term)\n",
    "assertTrue(term is Struct)\n",
    "assertEquals(\"person\", term.functor)\n",
    "assertEquals(3, term.arity)\n",
    "assertEquals(\n",
    "    listOf(Atom.of(\"giovanni\"), Atom.of(\"ciatto\"), Integer.of(30)),\n",
    "    term.args\n",
    ")\n",
    "assertEquals(term[0], Atom.of(\"giovanni\"))\n",
    "assertEquals(term[1], Atom.of(\"ciatto\"))\n",
    "assertEquals(term[2], Integer.of(30))\n",
    "assertEquals(representation, formatter.format(term))\n",
    "\n",
    "val newTerm = term.addLast(Var.of(\"DateOfBirth\"))\n",
    "val newRepresentation = \"person(giovanni, ciatto, 30, DateOfBirth)\"\n",
    "val newExpected = parser.parseTerm(newRepresentation)\n",
    "\n",
    "assertTrue(newExpected.equals(newTerm, useVarCompleteName = false))"
   ]
  },
  {
   "cell_type": "markdown",
   "id": "48c53f89",
   "metadata": {},
   "source": [
    "## Lists"
   ]
  },
  {
   "cell_type": "code",
   "execution_count": null,
   "id": "d86dbca2",
   "metadata": {},
   "outputs": [],
   "source": [
    "val representation = \"[1, a, f(x)]\""
   ]
  },
  {
   "cell_type": "code",
   "execution_count": null,
   "id": "b80f5648",
   "metadata": {},
   "outputs": [],
   "source": [
    "val term: Term = TODO(\"Create a ${List::class.simpleName} term whose representation is equal to $representation\")\n",
    "val expected = parser.parseTerm(representation)\n",
    "\n",
    "assertEquals(expected, term)\n",
    "assertTrue(term is Struct)\n",
    "assertTrue(term is List)\n",
    "assertTrue(term is Cons)\n",
    "assertEquals(\".\", term.functor)\n",
    "assertEquals(2, term.arity)\n",
    "assertEquals(term[0], Integer.of(1))\n",
    "assertEquals(term[1], List.of(Atom.of(\"a\"), Struct.of(\"f\", Atom.of(\"x\"))))\n",
    "assertEquals(representation, formatter.format(term))\n",
    "\n",
    "assertEquals(\n",
    "    term,\n",
    "    Cons.of(\n",
    "        head = Integer.of(1),\n",
    "        tail = Cons.of(\n",
    "            head = Atom.of(\"a\"),\n",
    "            tail = Cons.of(\n",
    "                head = Struct.of(\"f\", Atom.of(\"x\")),\n",
    "                tail = EmptyList.instance\n",
    "            )\n",
    "        )\n",
    "    )\n",
    ")"
   ]
  }
 ],
 "metadata": {
  "kernelspec": {
   "display_name": "Kotlin",
   "language": "kotlin",
   "name": "kotlin"
  },
  "language_info": {
   "codemirror_mode": "text/x-kotlin",
   "file_extension": ".kt",
   "mimetype": "text/x-kotlin",
   "name": "kotlin",
   "nbconvert_exporter": "",
   "pygments_lexer": "kotlin",
   "version": "1.8.20"
  }
 },
 "nbformat": 4,
 "nbformat_minor": 5
}
