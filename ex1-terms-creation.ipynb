{
 "cells": [
  {
   "cell_type": "markdown",
   "id": "e4d58fcf",
   "metadata": {},
   "source": [
    "# Terms creation in 2P-Kt"
   ]
  },
  {
   "cell_type": "markdown",
   "id": "d66dae58",
   "metadata": {},
   "source": [
    "## Goals\n",
    "\n",
    "- Learn how to create/inspect terms in `2p-kt`\n",
    "- Understand the representation of lists in logic\n",
    "\n",
    "## Terms hierarchy in `2p-kt`\n",
    "\n",
    "Simplified view of the type hierarchy of `Term` in `2p-kt`:\n",
    "![Type hierarchy of `Term`](http://www.plantuml.com/plantuml/svg/PP11IiOm48NtSufSuB-1Yugu4CI5YlkXdRR1P5ec4qJmy1fYoBHTlk-HyBuPag9eZW7If-ST1QDBAqxRb-V5pHWI0NXMaXb7SkyaqSI7ZPCYgq4VA2QzgUJHrYyvalZHa2TMMiW-UYKC9jxh5kq4oRgQ_1Xt_NxsIGqpiSq4ADlTtS_jpurlRTa1DfypBaxGkewRowMfa-6_xxY8NMax0DH9frzEiAf1gJgh9u5ITTZlSkJr60Fnb6Fu1G00)\n",
    "\n",
    "\n",
    "## Preliminaries\n",
    "\n",
    "Let's first import `2p-kt` (`%use` directive only work in Jupyter):"
   ]
  },
  {
   "cell_type": "code",
   "execution_count": null,
   "id": "a3d79f22",
   "metadata": {},
   "outputs": [],
   "source": [
    "%use 2p-kt@/ktlibs\n",
    "%use kt-math@/ktlibs\n",
    "import it.unibo.tuprolog.core.List as LogicList"
   ]
  },
  {
   "cell_type": "markdown",
   "id": "d85fb8d1",
   "metadata": {},
   "source": [
    "Let's create a parser for converting strings into terms:"
   ]
  },
  {
   "cell_type": "code",
   "execution_count": 2,
   "id": "b0107323",
   "metadata": {},
   "outputs": [],
   "source": [
    "val parser = TermParser.withNoOperator()"
   ]
  },
  {
   "cell_type": "markdown",
   "id": "b02b7957",
   "metadata": {},
   "source": [
    "Let's create a formatter for converting terms into human-readable strings:"
   ]
  },
  {
   "cell_type": "code",
   "execution_count": 3,
   "id": "50322009",
   "metadata": {},
   "outputs": [],
   "source": [
    "val formatter = TermFormatter.prettyVariables()"
   ]
  },
  {
   "cell_type": "markdown",
   "id": "7b4db07a",
   "metadata": {},
   "source": [
    "## Atoms\n",
    "\n",
    "Atoms are alphanumerics constants.\n",
    "When\n",
    "- containing spaces, \n",
    "- or beginning with uppercase letters or undescores\n",
    "\n",
    "atom are represented as wrapped within single/double apices."
   ]
  },
  {
   "cell_type": "code",
   "execution_count": 4,
   "id": "91b84b71",
   "metadata": {},
   "outputs": [
    {
     "data": {
      "text/plain": [
       "[anAtom, 'an atom with spaces', \"ACapitalAtom\"]"
      ]
     },
     "execution_count": 4,
     "metadata": {},
     "output_type": "execute_result"
    }
   ],
   "source": [
    "val representations = listOf(\n",
    "    \"anAtom\", \n",
    "    \"'an atom with spaces'\",\n",
    "    \"\\\"ACapitalAtom\\\"\"\n",
    ")\n",
    "representations"
   ]
  },
  {
   "cell_type": "markdown",
   "id": "d4cc8b7a",
   "metadata": {},
   "source": [
    "Atoms can be programmatically constructed by means of the `Atom.of` factory method, accepting a `String` *without apices* as input.\n",
    "\n",
    "Otherwise, atoms can be parsed from a `String` by means of a `TermParser`.\n",
    "\n",
    "Below, try to construct the atom **programmatically**, out of a representation, in order for it to match the atom parsed from the same representation."
   ]
  },
  {
   "cell_type": "code",
   "execution_count": 5,
   "id": "3cd9fc4b",
   "metadata": {},
   "outputs": [],
   "source": [
    "for (repr in representations) {\n",
    "//     val term: Term = TODO(\"create an ${Atom::class.simpleName} term whose representation is equal to $repr\")\n",
    "    val term: Term = Atom.of(repr.replace(\"'\", \"\").replace(\"\\\"\", \"\"))\n",
    "    val expected = parser.parseTerm(repr)\n",
    "\n",
    "    assertEquals(expected, term)\n",
    "    assertTrue(term is Struct)\n",
    "    assertTrue(term is Constant)\n",
    "    assertTrue(term is Atom)\n",
    "    assertTrue(term.isGround)\n",
    "    assertEquals(repr.replace(\"'\", \"\").replace(\"\\\"\", \"\"), term.value)\n",
    "    assertEquals(repr.replace(\"\\\"\", \"'\"), formatter.format(term))\n",
    "}"
   ]
  },
  {
   "cell_type": "markdown",
   "id": "1921df9c",
   "metadata": {},
   "source": [
    "## Numbers\n",
    "\n",
    "Numbers are numeric constants.\n",
    "They can either be integer or real.\n",
    "\n",
    "### Integers\n",
    "\n",
    "Integers are numbers with sign, with no decimal part, and with no limit in representation size."
   ]
  },
  {
   "cell_type": "code",
   "execution_count": 6,
   "id": "a2a50b5b",
   "metadata": {},
   "outputs": [
    {
     "data": {
      "text/plain": [
       "[1, 2, 0, -1, 10000000000000000000]"
      ]
     },
     "execution_count": 6,
     "metadata": {},
     "output_type": "execute_result"
    }
   ],
   "source": [
    "val representations = listOf(\"1\", \"2\", \"0\", \"-1\", \"10000000000000000000\")\n",
    "representations"
   ]
  },
  {
   "cell_type": "markdown",
   "id": "6d80c32b",
   "metadata": {},
   "source": [
    "Integers can be programmatically constructed by means of the `Integer.of` factory method, accepting a `String`, `Int`, `Long`, or `BigInteger`.\n",
    "\n",
    "Otherwise, integers can be parsed from a `String` by means of a `TermParser`.\n",
    "\n",
    "Below, try to construct the integer **programmatically**, out of a representation, in order for it to match the integer parsed from the same representation."
   ]
  },
  {
   "cell_type": "code",
   "execution_count": 7,
   "id": "a4b69a31",
   "metadata": {},
   "outputs": [],
   "source": [
    "for (repr in representations) {\n",
    "//     val term: Term = TODO(\"create an ${Integer::class.simpleName} term whose value is equal to $repr\")\n",
    "    val term = Integer.of(repr)\n",
    "    val expected = parser.parseTerm(repr)\n",
    "\n",
    "    assertEquals(expected, term)\n",
    "    assertTrue(term is Numeric)\n",
    "    assertTrue(term is Constant)\n",
    "    assertTrue(term is Integer)\n",
    "    assertTrue(term.isGround)\n",
    "    assertEquals(BigInteger.of(repr), term.value)\n",
    "    assertEquals(repr, formatter.format(term))\n",
    "}"
   ]
  },
  {
   "cell_type": "markdown",
   "id": "b8f90e92",
   "metadata": {},
   "source": [
    "### Reals\n",
    "\n",
    "Reals are numbers with sign, with an unlimited-precision decimal part, and with no limit in representation size.\n"
   ]
  },
  {
   "cell_type": "code",
   "execution_count": 8,
   "id": "90ab188e",
   "metadata": {},
   "outputs": [
    {
     "name": "stdout",
     "output_type": "stream",
     "text": [
      "[1.2, -3.4, 0.0, 3.141592653589793238462643383279502884197169399375105820974944592307816406286208998628034825342117067982148086513282306647093844609550582231725359408128481117450284102701938521105559644622948954930381964428810975665933446128475648233786783165271201909145648]\n"
     ]
    }
   ],
   "source": [
    "val representations = listOf(\"1.2\", \"-3.4\", \"0.0\", BigDecimal.PI.toString())\n",
    "println(representations)"
   ]
  },
  {
   "cell_type": "markdown",
   "id": "3e36123c",
   "metadata": {},
   "source": [
    "Reals can be programmatically constructed by means of the `Real.of` factory method, accepting a `String`, `Float`, `Double`, or `BigDecimal`.\n",
    "\n",
    "Otherwise, reals can be parsed from a `String` by means of a `TermParser`.\n",
    "\n",
    "Below, try to construct the real **programmatically**, out of a representation, in order for it to match the real parsed from the same representation."
   ]
  },
  {
   "cell_type": "code",
   "execution_count": 9,
   "id": "bfd0df28",
   "metadata": {},
   "outputs": [],
   "source": [
    "for (repr in representations) {\n",
    "//     val term: Term = TODO(\"Create a ${Real::class.simpleName} term whose representation is equal to $repr\")\n",
    "    val term = Real.of(repr)\n",
    "    val expected = parser.parseTerm(repr)\n",
    "\n",
    "    assertEquals(expected, term)\n",
    "    assertTrue(term is Numeric)\n",
    "    assertTrue(term is Constant)\n",
    "    assertTrue(term is Real)\n",
    "    assertTrue(term.isGround)\n",
    "    assertEquals(BigDecimal.of(repr), term.value)\n",
    "    assertEquals(repr, formatter.format(term))\n",
    "}\n",
    "    "
   ]
  },
  {
   "cell_type": "markdown",
   "id": "f34adbfe",
   "metadata": {},
   "source": [
    "## Variables"
   ]
  },
  {
   "cell_type": "markdown",
   "id": "484537a6",
   "metadata": {},
   "source": [
    "Variables are (possibly, *named*) placeholders for unknown terms.\n",
    "Variables whose name *begins with* an underscore are considered __anonymous__.\n",
    "Names are commonly __uppercase__."
   ]
  },
  {
   "cell_type": "code",
   "execution_count": 10,
   "id": "c504981d",
   "metadata": {},
   "outputs": [
    {
     "data": {
      "text/plain": [
       "[A, B, _, _A, _B, SomeVariable]"
      ]
     },
     "execution_count": 10,
     "metadata": {},
     "output_type": "execute_result"
    }
   ],
   "source": [
    "val names = listOf(\"A\", \"B\", \"_\", \"_A\", \"_B\", \"SomeVariable\")\n",
    "names"
   ]
  },
  {
   "cell_type": "markdown",
   "id": "e30fb765",
   "metadata": {},
   "source": [
    "Variables can be programmatically constructed by means of the `Var.of` factory method, accepting a `String`.\n",
    "\n",
    "Otherwise, variables can be parsed from a `String` by means of a `TermParser`.\n",
    "\n",
    "> Each new variable is always created different from any other variable created before it, **even if the name is the same**.\n",
    "\n",
    "Below, try to construct the variable **programmatically**, out of a representation, in order for it to match the variable parsed from the same representation."
   ]
  },
  {
   "cell_type": "code",
   "execution_count": 11,
   "id": "d1469f73",
   "metadata": {},
   "outputs": [],
   "source": [
    "for (name in names) {\n",
    "//     val term: Term = TODO(\"Create a ${Var::class.simpleName}iable term whose name is equal to $name\")\n",
    "    val term = Var.of(name)\n",
    "    val expected = parser.parseTerm(name)\n",
    "\n",
    "    assertNotEquals(expected, term) // notice this!\n",
    "    assertTrue(expected.equals(term, useVarCompleteName = false))\n",
    "    assertTrue(term is Var)\n",
    "    assertFalse(term.isGround)\n",
    "    assertEquals(name, term.name)\n",
    "    assertEquals(name, formatter.format(term))\n",
    "    assertTrue(term.completeName.startsWith(name + \"_\"))\n",
    "    assertEquals(name == \"_\", term.isAnonymous)\n",
    "}"
   ]
  },
  {
   "cell_type": "markdown",
   "id": "9dad65bb",
   "metadata": {},
   "source": [
    "## Structures"
   ]
  },
  {
   "cell_type": "markdown",
   "id": "83513236",
   "metadata": {},
   "source": [
    "Structures are named records with zero, one, or more terms as **arguments**.\n",
    "The name is called **functor**. \n",
    "The amount of arguments is called **arity**.\n",
    "Atoms are essentially structures with 0 arguments."
   ]
  },
  {
   "cell_type": "code",
   "execution_count": 12,
   "id": "1d2f845e",
   "metadata": {},
   "outputs": [],
   "source": [
    "val representation = \"person(giovanni, ciatto, 31)\""
   ]
  },
  {
   "cell_type": "markdown",
   "id": "64e2d395",
   "metadata": {},
   "source": [
    "Structures can be programmatically constructed by means of the `Struct.of` factory method, accepting a `String` and an arbitrary amount of `Term`s.\n",
    "\n",
    "Otherwise, structures can be parsed from a `String` by means of a `TermParser`.\n",
    "\n",
    "Below, try to construct the structure **programmatically**, out of a representation, in order for it to match the structure parsed from the same representation."
   ]
  },
  {
   "cell_type": "code",
   "execution_count": 13,
   "id": "a04c3cbd",
   "metadata": {},
   "outputs": [],
   "source": [
    "// val term: Term = TODO(\"Create a ${Struct::class.simpleName}ured term whose representation is equal to $representation\")\n",
    "val term = Struct.of(\"person\", Atom.of(\"giovanni\"), Atom.of(\"ciatto\"), Integer.of(31))\n",
    "val expected = parser.parseTerm(representation)\n",
    "\n",
    "assertEquals(expected, term)\n",
    "assertTrue(term is Struct)\n",
    "assertEquals(\"person\", term.functor)\n",
    "assertEquals(3, term.arity)\n",
    "assertEquals(\n",
    "    listOf(Atom.of(\"giovanni\"), Atom.of(\"ciatto\"), Integer.of(31)),\n",
    "    term.args\n",
    ")\n",
    "assertEquals(term[0], Atom.of(\"giovanni\"))\n",
    "assertEquals(term[1], Atom.of(\"ciatto\"))\n",
    "assertEquals(term[2], Integer.of(31))\n",
    "assertTrue(term.isGround)\n",
    "assertEquals(representation, formatter.format(term))"
   ]
  },
  {
   "cell_type": "markdown",
   "id": "d1585378",
   "metadata": {},
   "source": [
    "Further arguments may be added to a structure.\n",
    "In that case **a new structure is created** and the original one is unaffected."
   ]
  },
  {
   "cell_type": "code",
   "execution_count": 14,
   "id": "c48da719",
   "metadata": {},
   "outputs": [],
   "source": [
    "val newTerm = term.addLast(Var.of(\"DateOfBirth\"))\n",
    "val newRepresentation = \"person(giovanni, ciatto, 31, DateOfBirth)\"\n",
    "val newExpected = parser.parseTerm(newRepresentation)\n",
    "\n",
    "assertNotSame(term, newTerm)\n",
    "assertTrue(newExpected.equals(newTerm, useVarCompleteName = false))\n",
    "assertFalse(newTerm.isGround)"
   ]
  },
  {
   "cell_type": "markdown",
   "id": "b388d342",
   "metadata": {},
   "source": [
    "> All sub-types of `Term` are **immutable** in `2p-kt`.\n",
    "> This means that all editing functionalities work by creating copies of the input term under the hood."
   ]
  },
  {
   "cell_type": "markdown",
   "id": "48c53f89",
   "metadata": {},
   "source": [
    "## Lists"
   ]
  },
  {
   "cell_type": "markdown",
   "id": "88930548",
   "metadata": {},
   "source": [
    "Logic lists are essentially immatable single-linked lists.\n",
    "They are implemented as structures of two types:\n",
    "- the couple `.(Head, Tail)`, most often denoted as `[Head | Tail]`\n",
    "- the empty list `[]` (which is technically an atom)\n",
    "\n",
    "Longer lists can be achieved by means of recursion.\n",
    "\n",
    "When the innermost, righmost `Tail` is an empty list, then it is omitted from the notation:\n",
    "```prolog\n",
    "[1, 2, 3] = [1, 2, 3 | []] = .(1, .(2, .(3, [])))\n",
    "```"
   ]
  },
  {
   "cell_type": "code",
   "execution_count": 15,
   "id": "d86dbca2",
   "metadata": {},
   "outputs": [],
   "source": [
    "val representation = \"[1, a, f(x)]\""
   ]
  },
  {
   "cell_type": "markdown",
   "id": "e3968578",
   "metadata": {},
   "source": [
    "Lists can be programmatically constructed in several ways:\n",
    "- `LogicList.of(...)` which accepts the items of the list, and assumes the tail to be the empty list\n",
    "- `LogicList.from(..., last=...)` which accepts the items of the list, and lets the callee specify the tail\n",
    "- `Cons.of(head, tail)` which creates a couple\n",
    "- `EmptyList()` which creates the empty list\n",
    "\n",
    "Otherwise, lists can be parsed from a `String` by means of a `TermParser`.\n",
    "\n",
    "Below, try to construct the list **programmatically**, out of a representation, in order for it to match the list parsed from the same representation."
   ]
  },
  {
   "cell_type": "code",
   "execution_count": null,
   "id": "b80f5648",
   "metadata": {},
   "outputs": [],
   "source": [
    "val term = LogicList.of(Integer.of(1), Atom.of(\"a\"), Struct.of(\"f\", Atom.of(\"c\")))\n",
    "val expected = parser.parseTerm(representation)\n",
    "\n",
    "assertEquals(expected, term)\n",
    "assertTrue(term is Struct)\n",
    "assertTrue(term is List)\n",
    "assertTrue(term is Cons)\n",
    "assertEquals(\".\", term.functor)\n",
    "assertEquals(2, term.arity)\n",
    "assertEquals(term[0], Integer.of(1))\n",
    "assertEquals(term[1], LogicList.of(Atom.of(\"a\"), Struct.of(\"f\", Atom.of(\"x\"))))\n",
    "assertEquals(representation, formatter.format(term))\n",
    "\n",
    "assertEquals(\n",
    "    actual = term,\n",
    "    expected = Cons.of(\n",
    "        head = Integer.of(1),\n",
    "        tail = Cons.of(\n",
    "            head = Atom.of(\"a\"),\n",
    "            tail = Cons.of(\n",
    "                head = Struct.of(\"f\", Atom.of(\"x\")),\n",
    "                tail = EmptyList.instance\n",
    "            )\n",
    "        )\n",
    "    )\n",
    ")"
   ]
  }
 ],
 "metadata": {
  "kernelspec": {
   "display_name": "Kotlin",
   "language": "kotlin",
   "name": "kotlin"
  },
  "language_info": {
   "codemirror_mode": "text/x-kotlin",
   "file_extension": ".kt",
   "mimetype": "text/x-kotlin",
   "name": "kotlin",
   "nbconvert_exporter": "",
   "pygments_lexer": "kotlin",
   "version": "1.8.20"
  }
 },
 "nbformat": 4,
 "nbformat_minor": 5
}
